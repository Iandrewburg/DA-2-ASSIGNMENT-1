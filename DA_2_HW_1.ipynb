{
 "cells": [
  {
   "cell_type": "code",
   "execution_count": 1,
   "metadata": {
    "tags": []
   },
   "outputs": [],
   "source": [
    "import os\n",
    "import sys\n",
    "import warnings\n",
    "\n",
    "import numpy as np\n",
    "import pandas as pd\n",
    "import matplotlib.font_manager\n",
    "from mizani.transforms import log_trans\n",
    "from mizani.formatters import percent_format\n",
    "from mizani.formatters import log_format\n",
    "from plotnine import *\n",
    "from datetime import datetime\n",
    "from scipy.stats import norm\n",
    "import statsmodels.formula.api as smf\n",
    "\n",
    "from stargazer.stargazer import Stargazer\n",
    "\n",
    "warnings.filterwarnings(\"ignore\")\n"
   ]
  },
  {
   "cell_type": "code",
   "execution_count": 3,
   "metadata": {
    "tags": []
   },
   "outputs": [],
   "source": [
    "xc = pd.read_csv(\"morg-2014-emp.csv\")"
   ]
  },
  {
   "cell_type": "code",
   "execution_count": 6,
   "metadata": {
    "tags": []
   },
   "outputs": [],
   "source": [
    "xc = xc.loc[lambda x: x[\"occ2012\"] == 10]"
   ]
  },
  {
   "cell_type": "code",
   "execution_count": 8,
   "metadata": {
    "tags": []
   },
   "outputs": [
    {
     "name": "stdout",
     "output_type": "stream",
     "text": [
      "Average Earnings for Men: $2109.86\n",
      "Average Earnings for Women: $1765.52\n",
      "Unconditional Gender Wage Gap: $344.34\n",
      "Gender Wage Gap as a Percentage of Men's Earnings: 16.32%\n"
     ]
    }
   ],
   "source": [
    "# Calculating average earnings for each gender\n",
    "average_earnings_men = xc[xc['sex'] == 1]['earnwke'].mean()\n",
    "average_earnings_women = xc[xc['sex'] == 2]['earnwke'].mean()\n",
    "\n",
    "# Calculating the wage gap\n",
    "wage_gap = average_earnings_men - average_earnings_women\n",
    "wage_gap_percentage = (wage_gap / average_earnings_men) * 100\n",
    "\n",
    "# Printing the results\n",
    "print(f\"Average Earnings for Men: ${average_earnings_men:.2f}\")\n",
    "print(f\"Average Earnings for Women: ${average_earnings_women:.2f}\")\n",
    "print(f\"Unconditional Gender Wage Gap: ${wage_gap:.2f}\")\n",
    "print(f\"Gender Wage Gap as a Percentage of Men's Earnings: {wage_gap_percentage:.2f}%\")"
   ]
  },
  {
   "cell_type": "code",
   "execution_count": 10,
   "metadata": {
    "tags": []
   },
   "outputs": [
    {
     "name": "stdout",
     "output_type": "stream",
     "text": [
      "sex                1            2    wage_gap  wage_gap_percentage\n",
      "grade92                                                           \n",
      "39       1476.703333  1175.127813  301.575521            20.422214\n",
      "40       1723.307600  1310.155102  413.152498            23.974391\n",
      "41       1512.011765   768.986667  743.025098            49.141489\n",
      "42       1651.268400  1334.531875  316.736525            19.181408\n",
      "43       2181.461398  1833.220274  348.241124            15.963662\n",
      "44       2326.182793  2180.694881  145.487912             6.254363\n",
      "45       2187.759412  2125.914615   61.844796             2.826855\n",
      "46       2171.434138  2228.996000  -57.561862            -2.650868\n"
     ]
    }
   ],
   "source": [
    "import pandas as pd\n",
    "\n",
    "# Assuming xc is your DataFrame\n",
    "# Grouping data by sex and education level and calculating mean earnings\n",
    "grouped_data = xc.groupby(['sex', 'grade92'])['earnwke'].mean().reset_index()\n",
    "\n",
    "# Pivoting the data for easier calculation and comparison\n",
    "pivot_data = grouped_data.pivot(index='grade92', columns='sex', values='earnwke')\n",
    "\n",
    "# Calculating the wage gap (assuming 1 is men and 2 is women)\n",
    "pivot_data['wage_gap'] = pivot_data[1] - pivot_data[2]\n",
    "pivot_data['wage_gap_percentage'] = (pivot_data['wage_gap'] / pivot_data[1]) * 100\n",
    "\n",
    "# Displaying the result\n",
    "print(pivot_data)\n"
   ]
  },
  {
   "cell_type": "code",
   "execution_count": 11,
   "metadata": {
    "tags": []
   },
   "outputs": [
    {
     "name": "stdout",
     "output_type": "stream",
     "text": [
      "                            OLS Regression Results                            \n",
      "==============================================================================\n",
      "Dep. Variable:                earnwke   R-squared:                       0.146\n",
      "Model:                            OLS   Adj. R-squared:                  0.145\n",
      "Method:                 Least Squares   F-statistic:                     108.8\n",
      "Date:                Mon, 13 Nov 2023   Prob (F-statistic):           2.46e-44\n",
      "Time:                        16:38:16   Log-Likelihood:                -10247.\n",
      "No. Observations:                1274   AIC:                         2.050e+04\n",
      "Df Residuals:                    1271   BIC:                         2.051e+04\n",
      "Df Model:                           2                                         \n",
      "Covariance Type:            nonrobust                                         \n",
      "==============================================================================\n",
      "                 coef    std err          t      P>|t|      [0.025      0.975]\n",
      "------------------------------------------------------------------------------\n",
      "const      -4705.7274    532.728     -8.833      0.000   -5750.850   -3660.605\n",
      "female      -291.4710     47.248     -6.169      0.000    -384.164    -198.778\n",
      "grade92      158.9651     12.412     12.808      0.000     134.615     183.315\n",
      "==============================================================================\n",
      "Omnibus:                      123.055   Durbin-Watson:                   1.943\n",
      "Prob(Omnibus):                  0.000   Jarque-Bera (JB):               62.985\n",
      "Skew:                          -0.382   Prob(JB):                     2.10e-14\n",
      "Kurtosis:                       2.223   Cond. No.                     1.08e+03\n",
      "==============================================================================\n",
      "\n",
      "Notes:\n",
      "[1] Standard Errors assume that the covariance matrix of the errors is correctly specified.\n",
      "[2] The condition number is large, 1.08e+03. This might indicate that there are\n",
      "strong multicollinearity or other numerical problems.\n"
     ]
    }
   ],
   "source": [
    "import statsmodels.api as sm\n",
    "import pandas as pd\n",
    "\n",
    "# Assuming xc is your DataFrame\n",
    "# Prepare the data\n",
    "xc['female'] = xc['sex'].apply(lambda x: 1 if x == 2 else 0)  # Creating a binary variable for female\n",
    "xc = xc.dropna(subset=['earnwke', 'female', 'grade92'])  # Dropping rows with missing values in key columns\n",
    "\n",
    "# Defining the model variables\n",
    "X = xc[['female', 'grade92']]  # Independent variables\n",
    "X = sm.add_constant(X)  # Adding a constant term to the predictor\n",
    "y = xc['earnwke']  # Dependent variable\n",
    "\n",
    "# Creating the model\n",
    "model = sm.OLS(y, X).fit()\n",
    "\n",
    "# Printing the summary of the regression\n",
    "print(model.summary())\n"
   ]
  },
  {
   "cell_type": "markdown",
   "metadata": {},
   "source": []
  },
  {
   "cell_type": "markdown",
   "metadata": {},
   "source": []
  },
  {
   "cell_type": "code",
   "execution_count": null,
   "metadata": {},
   "outputs": [],
   "source": []
  }
 ],
 "metadata": {
  "kernelspec": {
   "display_name": "Python 3 (ipykernel)",
   "language": "python",
   "name": "python3"
  },
  "language_info": {
   "codemirror_mode": {
    "name": "ipython",
    "version": 3
   },
   "file_extension": ".py",
   "mimetype": "text/x-python",
   "name": "python",
   "nbconvert_exporter": "python",
   "pygments_lexer": "ipython3",
   "version": "3.11.4"
  }
 },
 "nbformat": 4,
 "nbformat_minor": 4
}
